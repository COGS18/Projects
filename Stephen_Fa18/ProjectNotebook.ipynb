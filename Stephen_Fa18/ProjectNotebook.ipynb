{
 "cells": [
  {
   "cell_type": "markdown",
   "metadata": {},
   "source": [
    "# Final Project: Sprite Animation"
   ]
  },
  {
   "cell_type": "markdown",
   "metadata": {},
   "source": [
    "## Objective: \n",
    "Using the module pygame, the objective of this project is to animate an RPG character's movement across a background. \n",
    "\n",
    "\n",
    "A window is created as a display, with the background image uploaded to the display. The window's dimensions are created to fit the dimensions of the background image.\n",
    "\n",
    "The window is constantly redrawn (updated) to delete old frames and create new ones.\n",
    "\n",
    "The program draws in our player, and listens for key inputs (up, down, left, right) and responds by changing directional booleans to True or False, and moving our player in that direction. The booleans listen for key inputs, as they are later used to animate our player.\n",
    "\n",
    "This is accomplished by loading in 8 images for each direction (left, right,up and down) into a list and loading through the images throughout the duration of each boolean.\n",
    "\n",
    "The player can not walk off of the screen, as conditionals for movement create artificial borders by taking the size of the player, their steplength, and the size of the window into account.\n",
    "\n",
    "The FPS is set as 32, a multiple of 8 in order to match the number of images that loop. Each image should be displayed for 4 frames.\n",
    "\n",
    "## Controls:\n",
    "\n",
    "Control your player by using the up, down, left and right arrows!\n",
    "\n",
    "Thank you for a great quarter."
   ]
  },
  {
   "cell_type": "code",
   "execution_count": 1,
   "metadata": {
    "scrolled": false
   },
   "outputs": [
    {
     "name": "stdout",
     "output_type": "stream",
     "text": [
      "pygame 1.9.4\n",
      "Hello from the pygame community. https://www.pygame.org/contribute.html\n"
     ]
    }
   ],
   "source": [
    "import pygame\n",
    "from my_module import functions as fn"
   ]
  },
  {
   "cell_type": "code",
   "execution_count": 2,
   "metadata": {
    "scrolled": true
   },
   "outputs": [
    {
     "ename": "IndexError",
     "evalue": "list index out of range",
     "output_type": "error",
     "traceback": [
      "\u001b[1;31m---------------------------------------------------------------------------\u001b[0m",
      "\u001b[1;31mIndexError\u001b[0m                                Traceback (most recent call last)",
      "\u001b[1;32m<ipython-input-2-3409e42bb943>\u001b[0m in \u001b[0;36m<module>\u001b[1;34m\u001b[0m\n\u001b[0;32m     79\u001b[0m \u001b[1;33m\u001b[0m\u001b[0m\n\u001b[0;32m     80\u001b[0m     man.draw(win, char, walkright,              # Calls to our animation function, inputting our window and lists of character\n\u001b[1;32m---> 81\u001b[1;33m              walkleft, walkup, walkdown)        # images to sequence.\n\u001b[0m\u001b[0;32m     82\u001b[0m \u001b[1;33m\u001b[0m\u001b[0m\n\u001b[0;32m     83\u001b[0m     fn.redraw_game_window(win, bg, dw_half,     # Calls our function for updating the game window, inputting the window,\n",
      "\u001b[1;32m~\\Desktop\\COGS 18\\MyProjectFolder\\my_module\\functions.py\u001b[0m in \u001b[0;36mdraw\u001b[1;34m(self, win, char, walkright, walkleft, walkup, walkdown)\u001b[0m\n\u001b[0;32m    128\u001b[0m \u001b[1;33m\u001b[0m\u001b[0m\n\u001b[0;32m    129\u001b[0m         \u001b[1;32mif\u001b[0m \u001b[0mself\u001b[0m\u001b[1;33m.\u001b[0m\u001b[0mright\u001b[0m\u001b[1;33m:\u001b[0m                                               \u001b[1;31m# If our character is moving right, loop across the list of images.\u001b[0m\u001b[1;33m\u001b[0m\u001b[1;33m\u001b[0m\u001b[0m\n\u001b[1;32m--> 130\u001b[1;33m             \u001b[0mwin\u001b[0m\u001b[1;33m.\u001b[0m\u001b[0mblit\u001b[0m\u001b[1;33m(\u001b[0m\u001b[0mwalkright\u001b[0m\u001b[1;33m[\u001b[0m\u001b[0mself\u001b[0m\u001b[1;33m.\u001b[0m\u001b[0mwalkcount\u001b[0m\u001b[1;33m//\u001b[0m\u001b[1;36m2\u001b[0m\u001b[1;33m]\u001b[0m\u001b[1;33m,\u001b[0m \u001b[1;33m(\u001b[0m\u001b[0mself\u001b[0m\u001b[1;33m.\u001b[0m\u001b[0mx\u001b[0m\u001b[1;33m,\u001b[0m\u001b[0mself\u001b[0m\u001b[1;33m.\u001b[0m\u001b[0my\u001b[0m\u001b[1;33m)\u001b[0m\u001b[1;33m)\u001b[0m  \u001b[1;31m# After selecting an image, print it at the character's current x and\u001b[0m\u001b[1;33m\u001b[0m\u001b[1;33m\u001b[0m\u001b[0m\n\u001b[0m\u001b[0;32m    131\u001b[0m             \u001b[0mself\u001b[0m\u001b[1;33m.\u001b[0m\u001b[0mwalkcount\u001b[0m\u001b[1;33m+=\u001b[0m\u001b[1;36m1\u001b[0m                                        \u001b[1;31m# y co-ordinate. Increment walkcount, and blit and image again while\u001b[0m\u001b[1;33m\u001b[0m\u001b[1;33m\u001b[0m\u001b[0m\n\u001b[0;32m    132\u001b[0m                                                                      \u001b[1;31m# right is true.\u001b[0m\u001b[1;33m\u001b[0m\u001b[1;33m\u001b[0m\u001b[1;33m\u001b[0m\u001b[0m\n",
      "\u001b[1;31mIndexError\u001b[0m: list index out of range"
     ]
    }
   ],
   "source": [
    "pygame.init()                                               # Initializes pygame\n",
    "pygame.display.set_caption(\"Sprite Run\")                    # This sets the title of our window to \"Sprite Run\"\n",
    "\n",
    "image_dir = 'images/rpg_character/'               # The pathway for our character image, so that it is convenient\n",
    "                                                            # to load in our character images.\n",
    "\n",
    "bg = pygame.image.load('images/background.png')   # Uses a method which loads an image from our directory, and sets\n",
    "                                                            # the image equal to a variable, in this case bg.\n",
    "\n",
    "image_size = bg.get_rect()                                  # This gets the size of our image (bg) and provides the rectangular\n",
    "w_center = image_size.center[1]                             # dimensions of our image. Center gives us the middle of the image.\n",
    "h_center = image_size.center[0]    \n",
    "dw = image_size[2]                                          # We use the image dimensions to fit our screen to. (width)                                  \n",
    "dh = image_size[3]                                          # We use the image dimensions to fit our screen to. (height)\n",
    "\n",
    "dw_half = dw/2                                              # Half of the size of the screen\n",
    "dh_half = dh/2 \n",
    "win  = pygame.display.set_mode((dw,dh))                     # Creates a window (pop-up) with the dimensions dw,dh (x,y).\n",
    "clock = pygame.time.Clock()                                 # Defines clock in order to set a framerate later.\n",
    "\n",
    "\n",
    "char = pygame.image.load(image_dir+'tile000.png')           # Loads the image for our character when he is not moving.\n",
    "\n",
    "\n",
    "\n",
    "# Below, we use the pygame.image.load method to load in a sequence of images from our directory.\n",
    "# Each direction is walkright, walkleft, walkup and walkdown hold a list of 8 images, which are saved in the order of\n",
    "# each animation and looped through later for us to animate our sprite's movement.\n",
    "\n",
    "#################################################################################################\n",
    "\n",
    "walkright = [pygame.image.load(image_dir+'tile024.png'),pygame.image.load(image_dir+'tile025.png'),  \n",
    "             pygame.image.load(image_dir+'tile026.png'),pygame.image.load(image_dir+'tile027.png'),  \n",
    "             pygame.image.load(image_dir+'tile028.png'),pygame.image.load(image_dir+'tile029.png'), \n",
    "             pygame.image.load(image_dir+'tile030.png'),pygame.image.load(image_dir+'tile031.png')] \n",
    "\n",
    "walkleft =[pygame.image.load(image_dir+ 'tile016.png'),pygame.image.load(image_dir+'tile017.png'),  \n",
    "           pygame.image.load(image_dir+'tile018.png'),pygame.image.load(image_dir+'tile019.png'),    \n",
    "           pygame.image.load(image_dir+'tile020.png'),pygame.image.load(image_dir+'tile021.png'),\n",
    "           pygame.image.load(image_dir+'tile022.png'),pygame.image.load(image_dir+'tile023.png')] \n",
    "\n",
    "walkup = [pygame.image.load(image_dir+'tile008.png'),pygame.image.load(image_dir+'tile009.png'),\n",
    "          pygame.image.load(image_dir+'tile010.png'),pygame.image.load(image_dir+'tile011.png'),\n",
    "          pygame.image.load(image_dir+'tile012.png'),pygame.image.load(image_dir+'tile013.png'),\n",
    "          pygame.image.load(image_dir+'tile014.png'),pygame.image.load(image_dir+'tile015.png')] \n",
    "\n",
    "walkdown = [pygame.image.load(image_dir+'tile000.png'),pygame.image.load(image_dir+'tile001.png'),\n",
    "            pygame.image.load(image_dir+'tile002.png'),pygame.image.load(image_dir+'tile003.png'),\n",
    "            pygame.image.load(image_dir+'tile004.png'),pygame.image.load(image_dir+'tile005.png'),\n",
    "            pygame.image.load(image_dir+'tile006.png'),pygame.image.load(image_dir+'tile007.png')]         \n",
    "        \n",
    "#################################################################################################\n",
    "        \n",
    "man = fn.Player(dw_half,dh_half,20,30, 2.75)      # Initialize our character, named 'man', at the center of the screen \n",
    "                                                # (dw_half, dh_half), with a size of width=20 and height=30 and velocity (vel)  \n",
    "                                                # at 2.5. The size of our character is necessary to detect collisions with the  \n",
    "                                                # border of our game-window.\n",
    "        \n",
    "run = True                                      # Boolean to run our main-game loop.\n",
    "while run:                                      # While run is true, run the main game loop repetitively.\n",
    "    \n",
    "    \n",
    "    keys = pygame.key.get_pressed()             # A pygame function that listens for keypresses (live inputs from the user).\n",
    "                                                # Keys is defined as a tuple filled with 0's. When a key press is initiated, a\n",
    "                                                # new tuple is made with a value of 1 at the corresponding entry, to show that\n",
    "                                                # a key press has been made.\n",
    "    \n",
    "    clock.tick(32)                              # The framerate of our program, the number of frames or iterations of our code \n",
    "                                                # that are run each second.\n",
    "    \n",
    "\n",
    "    \n",
    "    for event in pygame.event.get():            # This gets events from the queue, commanded by the user. \n",
    "        if event.type == pygame.QUIT:           # If the user clicks exit (the red X at the top-right of a window)\n",
    "            run = False                         # run is set to False. This will end our game loop.\n",
    "    \n",
    "    \n",
    "    man.move(keys, dw, dh)                      # Calls to our move function, inputting our keys tuple and screen dimensions.\n",
    "    \n",
    "    man.draw(win, char, walkright,              # Calls to our animation function, inputting our window and lists of character\n",
    "             walkleft, walkup, walkdown)        # images to sequence.\n",
    "        \n",
    "    fn.redraw_game_window(win, bg, dw_half,     # Calls our function for updating the game window, inputting the window,\n",
    "                         w_center, h_center, dh_half)   # background image, image_size, and halved screen dimensions for use.\n",
    "    \n",
    "pygame.quit()                                   # Once the game loop is done, exit the window.\n"
   ]
  },
  {
   "cell_type": "code",
   "execution_count": null,
   "metadata": {},
   "outputs": [],
   "source": []
  },
  {
   "cell_type": "code",
   "execution_count": null,
   "metadata": {},
   "outputs": [],
   "source": []
  }
 ],
 "metadata": {
  "kernelspec": {
   "display_name": "Python 3",
   "language": "python",
   "name": "python3"
  },
  "language_info": {
   "codemirror_mode": {
    "name": "ipython",
    "version": 3
   },
   "file_extension": ".py",
   "mimetype": "text/x-python",
   "name": "python",
   "nbconvert_exporter": "python",
   "pygments_lexer": "ipython3",
   "version": "3.7.1"
  }
 },
 "nbformat": 4,
 "nbformat_minor": 2
}
