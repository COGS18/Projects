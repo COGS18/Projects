{
 "cells": [
  {
   "cell_type": "markdown",
   "metadata": {},
   "source": [
    "# COGS 18: Projects"
   ]
  },
  {
   "cell_type": "markdown",
   "metadata": {},
   "source": [
    "# Project Ideas"
   ]
  },
  {
   "cell_type": "markdown",
   "metadata": {},
   "source": [
    "## Encryption\n",
    "\n",
    "- Integrate email into the encryption code, so you can send and receive encrypted messages\n",
    "- Explore 'code breaking', writing code that code break the encryption of some of the encryption schemes"
   ]
  },
  {
   "cell_type": "markdown",
   "metadata": {},
   "source": [
    "## Chatbots\n",
    "\n",
    "- Extend the chatbot to talk about some new topics, or a new kind of interaction\n",
    "    - For example, update the chatbot to more systematically answer questions\n",
    "    - Or focus on a particular topic, like answering questions about Python\n",
    "- Set up Chatbots that can talk to each other"
   ]
  },
  {
   "cell_type": "markdown",
   "metadata": {},
   "source": [
    "## Artificial Agents\n",
    "\n",
    "- Make the agents interact with each other\n",
    "    - What happens when they are in the same place? Can they 'eat' each other?\n",
    "- Add something new to the world: obstacles (walls?), or targers (food?)\n",
    "- Add a new exploration scheme for the bots to perform\n",
    "- Note: if you are want to scale up this idea, you can look into the 'pelita' application (from the demo)"
   ]
  },
  {
   "cell_type": "markdown",
   "metadata": {},
   "source": [
    "## Research\n",
    "\n",
    "- Use LiteratureScanner to investigate an area of research in the literature\n",
    "- Explore scientific python to analyze a small dataset"
   ]
  },
  {
   "cell_type": "markdown",
   "metadata": {},
   "source": [
    "## Choose your own adventure\n",
    "\n",
    "- Choose an area you are interested in, and explore what people do in it (read code!)\n",
    "    - If you want to try and use an external tool / codebase, consider writing a demo / tutorial for it\n",
    "- Find an API, and write some code to get some data / do some procedures with it\n",
    "- You can also check out and build of one of the demos from the 0th class\n",
    "- One option: create text based programs, that mimic some programs you would like\n",
    "- Build some sort of utility that you would find useful\n",
    "    - File management, organizing pictures, indexing files, \n",
    "- If you are interested in an area of research, start a project related to that\n",
    "    - This can be a way to learn those specific tools\n",
    "        - For example: get a working demo, and sketch out a tutorial"
   ]
  },
  {
   "cell_type": "markdown",
   "metadata": {},
   "source": [
    "## Taboo Topics\n",
    "\n",
    "There are lots of helpful tutorials online; however, often it's difficult to figure out how to make _your_ implementation different than these online tutorials. It's also boring and a pain to grade. So, to avoid any issues, there are two taboo topics this quarter:\n",
    "\n",
    "1. Hangman\n",
    "2. Drawings from `turtle`\n",
    "\n",
    "If you have an idea that is a new/different/unique implementation of hangman or have a specific idea that requires `turtle`, reach out to Professor Ellis and she will either approve or deny the project. Anything else is fair game."
   ]
  },
  {
   "cell_type": "markdown",
   "metadata": {},
   "source": [
    "# How to get started\n",
    "\n",
    "- Pseudocode out the ideas you would like to explore / work on\n",
    "- Open a notebook, and get some code into it\n",
    "    - If you are doing an assignment related project, see which code you need, and isolate it\n",
    "- Start exploring! Write some extra code that starts \n",
    "    - Figure out what you will need to do your idea\n",
    "- When you start having 'mature' functions / classes, try moving them into a script"
   ]
  }
 ],
 "metadata": {
  "kernelspec": {
   "display_name": "Python 3",
   "language": "python",
   "name": "python3"
  },
  "language_info": {
   "codemirror_mode": {
    "name": "ipython",
    "version": 3
   },
   "file_extension": ".py",
   "mimetype": "text/x-python",
   "name": "python",
   "nbconvert_exporter": "python",
   "pygments_lexer": "ipython3",
   "version": "3.6.8"
  }
 },
 "nbformat": 4,
 "nbformat_minor": 2
}
