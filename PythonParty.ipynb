{
 "cells": [
  {
   "cell_type": "markdown",
   "metadata": {
    "slideshow": {
     "slide_type": "slide"
    }
   },
   "source": [
    "**Course Announcements**\n",
    "\n",
    "**Due Dates**\n",
    "- CL7 due Wed (11:59 PM)\n",
    "- A5 due Mon 12/7 (released later today)\n",
    "\n",
    "**Notes**\n",
    "- Exam grading underway\n"
   ]
  },
  {
   "cell_type": "markdown",
   "metadata": {
    "slideshow": {
     "slide_type": "slide"
    }
   },
   "source": [
    "# Python Party!\n",
    "\n",
    "It's a little bit less of a party this quarter. "
   ]
  },
  {
   "cell_type": "markdown",
   "metadata": {
    "slideshow": {
     "slide_type": "slide"
    }
   },
   "source": [
    "## Project-based Course\n",
    "\n",
    "Today starts the transition to a project-based course!\n",
    "\n",
    "Project Overview: https://cogs18.github.io/projects/Overview.html  \n",
    "Project Ideas: https://cogs18.github.io/projects/ProjectIdeas.html   \n",
    "Project FAQ: https://cogs18.github.io/projects/faq.html  \n",
    "Project Template: https://cogs18.github.io/assets/intro/ProjectTemplate.zip"
   ]
  },
  {
   "cell_type": "markdown",
   "metadata": {
    "slideshow": {
     "slide_type": "slide"
    }
   },
   "source": [
    "## Project Options\n",
    "***new this quarter***\n",
    "\n",
    "Choose ONE:\n",
    "- **Complete the final project**\n",
    "    - we're discussing the details today\n",
    "    - submitted on Canvas by 11:59 PM on day of the final\n",
    "    - opportunity to learn the most! \n",
    "    - takes a lot more time    \n",
    "- **Complete the final exam** \n",
    "    - it will be a guided mini-project \n",
    "    - will be taken on datahub\n",
    "    - 24h to complete\n",
    "\n",
    "Only caveats if you take the final exam:\n",
    "1. The highest grade you can get in the course is an A (not an A+)\n",
    "2. There is no opportunity for extra credit\n",
    "\n",
    "Choose one, *NOT* both (there are a lot of you!). If you do both, I will use the lower score."
   ]
  },
  {
   "cell_type": "markdown",
   "metadata": {
    "slideshow": {
     "slide_type": "slide"
    }
   },
   "source": [
    "## Project Overview\n",
    "- must implement some new thing (_not_ grading on complexity)\n",
    "- completed individually\n",
    "- uses good code practices\n",
    "- What you will turn in: zip file with your project\n",
    "    - \\>= 1 Jupyter notebook (minimally includes project description)\n",
    "        - ideally: demonstrates how your project runs (likely only a few lines of code)\n",
    "    - \\>= 1 module _or_ script\n",
    "    - a test file with \\>= 3 tests\n",
    "\n"
   ]
  },
  {
   "cell_type": "markdown",
   "metadata": {
    "slideshow": {
     "slide_type": "slide"
    }
   },
   "source": [
    "## Project Topics\n",
    "- Encryption (A2)\n",
    "- Chatbots (A3)\n",
    "- Artificial Agents (A4)\n",
    "- A Data Analysis\n",
    "- Choose your own adventure (propose and develop your own project idea)"
   ]
  },
  {
   "cell_type": "markdown",
   "metadata": {
    "slideshow": {
     "slide_type": "fragment"
    }
   },
   "source": [
    "### Taboo (Off-limit) topics $^*$\n",
    "- Hangman\n",
    "- `turtle` drawings\n",
    "- tic-tac-toe\n",
    "- blackjack\n",
    "\n",
    "$^*$If you have a really new hangman implementation/idea or are super stoked about your great `turtle` idea or have invented a spin on traditional tic-tac-toe/blackjack, you'll need to pitch your idea to (via email or in office hours) and get approval from Professor Ellis"
   ]
  },
  {
   "cell_type": "markdown",
   "metadata": {
    "slideshow": {
     "slide_type": "slide"
    }
   },
   "source": [
    "### Project advice:\n",
    "- Work steadily over time\n",
    "- Work to first create a minimal viable product\n",
    "    - modular design\n",
    "    - multiple, independent pieces\n",
    "- Rapid prototyping + testing"
   ]
  },
  {
   "cell_type": "markdown",
   "metadata": {
    "slideshow": {
     "slide_type": "slide"
    }
   },
   "source": [
    "### Coding Labs\n",
    "\n",
    "Will largely be project-focused going forward\n",
    "\n",
    "- Week 9 : Project Brainstorming & Progress\n",
    "- Week 10 : Code Review"
   ]
  },
  {
   "cell_type": "markdown",
   "metadata": {
    "slideshow": {
     "slide_type": "slide"
    }
   },
   "source": [
    "### Grading\n",
    "| Component        | Grade Value |\n",
    "|:-------------: |:-----------:|\n",
    "| Concept | 5% | \n",
    "| File Structure | 5% | \n",
    "| Project Description | 10% | \n",
    "| Approach | 20% | \n",
    "| Project Code | 30% | \n",
    "| Code Style | 10% | \n",
    "| Code Documentation | 10% | \n",
    "| Code Tests | 10% | \n",
    "| Extra Credit | 4% | \n",
    "| GitHub Extra Credit | 1% | "
   ]
  },
  {
   "cell_type": "markdown",
   "metadata": {
    "slideshow": {
     "slide_type": "slide"
    }
   },
   "source": [
    "### Extra Credit:\n",
    "- Go beyond the requirements of the project / press yourself to learn something new (*up to* 4%)\n",
    "- Put your project on GitHub (1%)\n"
   ]
  },
  {
   "cell_type": "markdown",
   "metadata": {
    "slideshow": {
     "slide_type": "slide"
    }
   },
   "source": [
    "#### Clicker Question #1\n",
    "Do you have an idea of what you want to do for your **project**?\n",
    "\n",
    "- A) absolutely no idea\n",
    "- B) some idea, but not sure\n",
    "- C) fairly good idea\n",
    "- D) I know exactly what I want to do.\n",
    "- E) I'm thinking I'm going to take the final exam"
   ]
  },
  {
   "cell_type": "markdown",
   "metadata": {
    "slideshow": {
     "slide_type": "slide"
    }
   },
   "source": [
    "### Example Projects: \n",
    "\n",
    "* Previous Examples: https://github.com/COGS18/Projects#projects"
   ]
  },
  {
   "cell_type": "markdown",
   "metadata": {
    "slideshow": {
     "slide_type": "slide"
    }
   },
   "source": [
    "## Python Party!\n",
    "\n",
    "\n",
    "We're lucky to have some of your instructional staff here today:\n",
    "\n",
    "- Bob\n",
    "- Bora"
   ]
  }
 ],
 "metadata": {
  "celltoolbar": "Slideshow",
  "kernelspec": {
   "display_name": "Python 3",
   "language": "python",
   "name": "python3"
  },
  "language_info": {
   "codemirror_mode": {
    "name": "ipython",
    "version": 3
   },
   "file_extension": ".py",
   "mimetype": "text/x-python",
   "name": "python",
   "nbconvert_exporter": "python",
   "pygments_lexer": "ipython3",
   "version": "3.7.9"
  },
  "rise": {
   "scroll": true
  }
 },
 "nbformat": 4,
 "nbformat_minor": 2
}
