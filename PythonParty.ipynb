{
 "cells": [
  {
   "cell_type": "markdown",
   "metadata": {
    "slideshow": {
     "slide_type": "slide"
    }
   },
   "source": [
    "# Python Party!\n",
    "\n",
    "It's a bit less of a party while learning remotely..."
   ]
  },
  {
   "cell_type": "markdown",
   "metadata": {
    "slideshow": {
     "slide_type": "slide"
    }
   },
   "source": [
    "**Course Announcements**\n",
    "\n",
    "- **A4** due Mon 2/28 (11:59 PM)\n",
    "- **CL7** due *next* Wednesday (3/2)\n",
    "\n",
    "**Note**\n",
    "- Prof Ellis' OH: extra **zoom office hours today 9-10 AM** (will use normal zoom link on canvas; make-up for Monday)"
   ]
  },
  {
   "cell_type": "markdown",
   "metadata": {
    "slideshow": {
     "slide_type": "notes"
    }
   },
   "source": [
    "**Q&A**\n",
    "\n",
    "Q: is there an easy way to download all the lecture notes from datahub using code in the terminal on my computer?  \n",
    "A: Yes - you can zip/tar all the contents on datahub into a single file, download, and then unzip/untar on your computer. I will provide instructions on this at the end of the quarter.\n",
    "\n",
    "Q: I was using cat, and it wasn't printing anything out even though I know that new_file was placed within dir_name. Is there a reason for this?  \n",
    "A: This is likely b/c you didn't add any contents to that file. Open that file up, add some text, and try `cat` again.\n",
    "\n",
    "Q: I still don't understand the purpose of using the command line.   \n",
    "A: Quickly navigate to and organize files. Also, run python scripts (we'll be doing this today).\n",
    "\n",
    "Q: Why can't we just stick to jupyter for an intro class  \n",
    "A: Because understanding how to work with .py files is critical for moving forward/understanding other code you see out in the world.\n",
    "\n",
    "Q: What does `!cd ~/` do?  \n",
    "A: Takes you to your home directory. If you're already in your home directory...it will leave you where you are.\n",
    "\n",
    "Q: How do we use the command line directly on our computer, like in our computer's terminal?   \n",
    "A: Search for \"terminal\" on your computer (if you don't have a terminal application already installed (depends on your computer), you could download a \"bash shell\". (I use iTerm.)\n",
    "\n",
    "Q: What is the difference between shell command and command line? Is there a difference?  \n",
    "A: The command line is where you type shell commands. So, when you open up a terminal and get the black background, that is the command line. One thing you can do at the command line is type shell commands.\n",
    "\n",
    "Q: Is the command line somewhere we are able to write code or is it purely used for locating files, documents, and code that has already been written? A follow-up question if we don't write code in the command line would be where would we write code then? Just in another Jupyter Notebook file that we then retrieve using the command line?  \n",
    "A: In a text editor! (The part of the notes we didn't get to on Wednesday but will discuss today.)\n",
    "\n",
    "Q: How is array different from other collections (like tuples, lists, dictionaries)?  \n",
    "A: We'll discuss arrays next week when we discuss `numpy`, but for now, arrays can be N-dimensional."
   ]
  },
  {
   "cell_type": "markdown",
   "metadata": {
    "slideshow": {
     "slide_type": "slide"
    }
   },
   "source": [
    "## Project-based Course\n",
    "\n",
    "Today starts the transition to a project-based course!\n",
    "\n",
    "- [Project Overview](https://cogs18.github.io/projects/overview.html)    \n",
    "- [Project Ideas](https://cogs18.github.io/projects/ProjectIdeas.html)   \n",
    "- [Project FAQ](https://cogs18.github.io/projects/faq.html)\n",
    "- [Project Template](https://cogs18.github.io/assets/intro/projects/ProjectTemplate.zip)"
   ]
  },
  {
   "cell_type": "markdown",
   "metadata": {
    "slideshow": {
     "slide_type": "slide"
    }
   },
   "source": [
    "## Project Options\n",
    "\n",
    "Choose ONE:\n",
    "- **Complete the final project**\n",
    "    - we're discussing the details today\n",
    "    - submitted on datahub or Canvas by 11:59 PM on day of the final\n",
    "    - opportunity to learn the most! \n",
    "    - takes a lot more time  \n",
    "    - opportunities for extra credit (going above & beyond; GitHub)\n",
    "    - *can* ask staff for help/ask questions throughout"
   ]
  },
  {
   "cell_type": "markdown",
   "metadata": {
    "slideshow": {
     "slide_type": "fragment"
    }
   },
   "source": [
    "- **Complete the final exam** \n",
    "    - it will be a guided mini-project \n",
    "    - will be taken on datahub\n",
    "    - 24h+ to complete "
   ]
  },
  {
   "cell_type": "markdown",
   "metadata": {
    "slideshow": {
     "slide_type": "fragment"
    }
   },
   "source": [
    "Caveats if you take the final exam:\n",
    "1. The highest grade you can get in the course is an A (not an A+)\n",
    "2. There is no additional opportunities for extra credit (Note: if you've been filling out daily participation surveys that EC *will* apply to both exam and project)\n",
    "3. You have to complete on your own (same rules as previous midterms)"
   ]
  },
  {
   "cell_type": "markdown",
   "metadata": {
    "slideshow": {
     "slide_type": "fragment"
    }
   },
   "source": [
    "Submit one, *NOT* both (I have lots of grading at the end of the quarter!). If you do both, I will use the lower score."
   ]
  },
  {
   "cell_type": "markdown",
   "metadata": {
    "slideshow": {
     "slide_type": "slide"
    }
   },
   "source": [
    "## Project Overview\n",
    "- must implement some new thing (_not_ grading on complexity)\n",
    "- completed individually\n",
    "- uses good code practices\n",
    "- What you will turn in: folder on datahub OR zip file with your project on Canvas\n",
    "    - \\>= 1 Jupyter notebook (minimally includes project description)\n",
    "        - ideally: demonstrates how your project runs (likely only a few lines of code)\n",
    "    - \\>= 1 module (having an additional script is optional)\n",
    "        - has *at least* three (3) unique/original functions or methods\n",
    "    - a test file with \\>= 3 tests"
   ]
  },
  {
   "cell_type": "markdown",
   "metadata": {
    "slideshow": {
     "slide_type": "slide"
    }
   },
   "source": [
    "## Project Topics\n",
    "- Encryption (A2)\n",
    "- Chatbots (A3)\n",
    "- Artificial Agents (A4)\n",
    "- A Data Analysis (A5)\n",
    "- Choose your own adventure (propose and develop your own project idea)"
   ]
  },
  {
   "cell_type": "markdown",
   "metadata": {
    "slideshow": {
     "slide_type": "fragment"
    }
   },
   "source": [
    "### Taboo (Off-limit) topics $^*$\n",
    "- Hangman\n",
    "- `turtle` drawings\n",
    "- tic-tac-toe\n",
    "- blackjack\n",
    "- Magic 8 Ball\n",
    "- Rock, Paper, Scissors\n",
    "- Snake Game\n",
    "- Connect4 Game \n",
    "\n",
    "$^*$If you have a really new hangman implementation/idea or are super stoked about your great `turtle` idea or have invented a spin on traditional tic-tac-toe/blackjack/magic 8 ball/rock, paper, scissors, you'll need to pitch your idea to (via campuswire/email or in office hours) and get approval from Professor Ellis"
   ]
  },
  {
   "cell_type": "markdown",
   "metadata": {
    "slideshow": {
     "slide_type": "slide"
    }
   },
   "source": [
    "### Process:\n",
    "\n",
    "1. Download 1) template from website OR 2) fetch Project on datahub\n",
    "2. Brainstorm an idea\n",
    "3. Design what \"pieces\" (functions/classes/etc.) you need to execute that idea\n",
    "4. Start writing code + tests\n",
    "5. Submit on 1) Canvas or 2) datahub"
   ]
  },
  {
   "cell_type": "markdown",
   "metadata": {
    "slideshow": {
     "slide_type": "fragment"
    }
   },
   "source": [
    "#### Why template + Canvas?\n",
    "\n",
    "- Certain packages do not work on datahub (game packages; audio; GUI)\n",
    "- Working outside of datahub will be helpful in the future\n",
    "- You are not dependent on the Internet working well"
   ]
  },
  {
   "cell_type": "markdown",
   "metadata": {
    "slideshow": {
     "slide_type": "slide"
    }
   },
   "source": [
    "#### Project advice:\n",
    "- Work steadily over time\n",
    "- Work to first create a minimal viable product\n",
    "    - modular design\n",
    "    - multiple, independent pieces\n",
    "- Rapid prototyping + testing"
   ]
  },
  {
   "cell_type": "markdown",
   "metadata": {
    "slideshow": {
     "slide_type": "slide"
    }
   },
   "source": [
    "### Grading\n",
    "| Component        | Grade Value |\n",
    "|:-------------: |:-----------:|\n",
    "| Concept | 5% | \n",
    "| File Structure | 5% | \n",
    "| Project Description | 10% | \n",
    "| Approach | 20% | \n",
    "| Project Code | 30% | \n",
    "| Code Style | 10% | \n",
    "| Code Documentation | 10% | \n",
    "| Code Tests | 10% | \n",
    "| Extra Credit | 4% | \n",
    "| GitHub Extra Credit | 1% | "
   ]
  },
  {
   "cell_type": "markdown",
   "metadata": {
    "slideshow": {
     "slide_type": "slide"
    }
   },
   "source": [
    "#### Extra Credit:\n",
    "- Go beyond the requirements of the project / press yourself to learn something new (*up to* 4%)\n",
    "- Put your project on GitHub (1%)\n"
   ]
  },
  {
   "cell_type": "markdown",
   "metadata": {
    "slideshow": {
     "slide_type": "slide"
    }
   },
   "source": [
    "#### Clicker Question #1\n",
    "Do you have an idea of what you want to do for your **project**?\n",
    "\n",
    "- A) absolutely no idea\n",
    "- B) some idea, but not sure\n",
    "- C) fairly good idea\n",
    "- D) I know exactly what I want to do.\n",
    "- E) I'm thinking I'm going to take the final exam"
   ]
  },
  {
   "cell_type": "markdown",
   "metadata": {
    "slideshow": {
     "slide_type": "slide"
    }
   },
   "source": [
    "### Example Projects: \n",
    "\n",
    "* Previous Examples: https://github.com/COGS18/Projects#projects\n",
    "* Andrew's project video"
   ]
  },
  {
   "cell_type": "markdown",
   "metadata": {
    "slideshow": {
     "slide_type": "slide"
    }
   },
   "source": [
    "## Python Party!\n",
    "\n",
    "What questions remain for you?"
   ]
  }
 ],
 "metadata": {
  "celltoolbar": "Slideshow",
  "kernelspec": {
   "display_name": "Python 3 (ipykernel)",
   "language": "python",
   "name": "python3"
  },
  "language_info": {
   "codemirror_mode": {
    "name": "ipython",
    "version": 3
   },
   "file_extension": ".py",
   "mimetype": "text/x-python",
   "name": "python",
   "nbconvert_exporter": "python",
   "pygments_lexer": "ipython3",
   "version": "3.9.7"
  },
  "rise": {
   "scroll": true
  }
 },
 "nbformat": 4,
 "nbformat_minor": 2
}
