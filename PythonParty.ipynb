{
 "cells": [
  {
   "cell_type": "markdown",
   "metadata": {
    "slideshow": {
     "slide_type": "slide"
    }
   },
   "source": [
    "# Python Party!"
   ]
  },
  {
   "cell_type": "markdown",
   "metadata": {
    "slideshow": {
     "slide_type": "slide"
    }
   },
   "source": [
    "## Course Announcements\n",
    "\n",
    "- A4 due tonight (11:59 PM)\n",
    "- We're grading exams this afternoon"
   ]
  },
  {
   "cell_type": "markdown",
   "metadata": {
    "slideshow": {
     "slide_type": "slide"
    }
   },
   "source": [
    "How did the difficulty of **the midterm exam** relate to what you expected/thought it would be?\n",
    "\n",
    "- A) A lot easier than expected\n",
    "- B) A bit easier than expected\n",
    "- C) About the level of difficulty expected\n",
    "- D) A little bit harder than expected\n",
    "- E) A lot harder than epxected"
   ]
  },
  {
   "cell_type": "markdown",
   "metadata": {
    "slideshow": {
     "slide_type": "slide"
    }
   },
   "source": [
    "Do you have an idea of what you want to do for your **project**?\n",
    "\n",
    "- A) absolutely no idea\n",
    "- B) some idea, but not sure\n",
    "- C) sort of\n",
    "- D) fairly good idea\n",
    "- E) I know exactly what I want to do."
   ]
  },
  {
   "cell_type": "markdown",
   "metadata": {
    "slideshow": {
     "slide_type": "slide"
    }
   },
   "source": [
    "## Project-based Course\n",
    "\n",
    "Today starts the transition to a project-based course!\n",
    "\n",
    "Project Overview: https://cogs18.github.io/projects/overview/  \n",
    "Project Ideas: https://cogs18.github.io/projects/ProjectIdeas/  \n",
    "Project FAQ: https://cogs18.github.io/projects/faq/\n"
   ]
  },
  {
   "cell_type": "markdown",
   "metadata": {
    "slideshow": {
     "slide_type": "slide"
    }
   },
   "source": [
    "## Project Overview\n",
    "- must implement some new thing (_not_ grading on complexity)\n",
    "- completed individually\n",
    "- uses good code practices\n",
    "- What you will turn in: zip file with your project\n",
    "    - \\>= 1 Jupyter notebook (minimally includes project description)\n",
    "        - ideally: demonstrates how your project runs (likely only a few lines of code)\n",
    "    - \\>= 1 module _or_ script\n",
    "    - a test file with \\>= 2 tests\n",
    "\n"
   ]
  },
  {
   "cell_type": "markdown",
   "metadata": {
    "slideshow": {
     "slide_type": "slide"
    }
   },
   "source": [
    "## Project Topics\n",
    "- Encryption (A2)\n",
    "- Chatbots (A3)\n",
    "- Artificial Agents (A4)\n",
    "- A Data Analysis\n",
    "- Choose your own adventure (propose and develop your own project idea)"
   ]
  },
  {
   "cell_type": "markdown",
   "metadata": {
    "slideshow": {
     "slide_type": "fragment"
    }
   },
   "source": [
    "### Taboo (Off-limit) topics $^*$\n",
    "- Hangman\n",
    "- `turtle` drawings\n",
    "\n",
    "$^*$If you have a really new hangman implementation/idea or are super stoked about your great `turtle` idea, you'll need to pitch your idea to (via email or in office hours) and get approval from Professor Ellis"
   ]
  },
  {
   "cell_type": "markdown",
   "metadata": {
    "slideshow": {
     "slide_type": "slide"
    }
   },
   "source": [
    "### Project advice:\n",
    "- Work steadily over time\n",
    "- Work to first create a minimal viable product\n",
    "    - modular design\n",
    "    - multiple, independent pieces\n",
    "- Rapid prototyping + testing"
   ]
  },
  {
   "cell_type": "markdown",
   "metadata": {
    "slideshow": {
     "slide_type": "slide"
    }
   },
   "source": [
    "### Coding Labs\n",
    "\n",
    "Will largely be project-focused going forward\n",
    "\n",
    "- Week 8 : Project Brainstorming\n",
    "- Week 9 : Project Completion\n",
    "- Week 10 : Code Review (_optional_) "
   ]
  },
  {
   "cell_type": "markdown",
   "metadata": {
    "slideshow": {
     "slide_type": "slide"
    }
   },
   "source": [
    "## Grading\n",
    "| Component        | Grade Value |\n",
    "|:-------------: |:-----------:|\n",
    "| Concept | 5% | \n",
    "| File Structure | 5% | \n",
    "| Project Description | 10% | \n",
    "| Approach | 20% | \n",
    "| Project Code | 30% | \n",
    "| Code Style | 10% | \n",
    "| Code Documentation | 10% | \n",
    "| Code Tests | 10% | \n",
    "| Extra Credit | 4% | \n",
    "| GitHub Extra Credit | 1% | "
   ]
  },
  {
   "cell_type": "markdown",
   "metadata": {
    "slideshow": {
     "slide_type": "slide"
    }
   },
   "source": [
    "## Clicker Question\n",
    "\n",
    "How excited are you to get started on your COGS18 final project? \n",
    "\n",
    "- A) The MOST Excited!\n",
    "- B) Really Excited!\n",
    "- C) _Incredibly_ Excited!\n",
    "- D) Super Duper Excited!\n",
    "- E) Really Flipping Excited!"
   ]
  },
  {
   "cell_type": "markdown",
   "metadata": {
    "slideshow": {
     "slide_type": "slide"
    }
   },
   "source": [
    "## Python Party!\n",
    "\n",
    "\n",
    "We're lucky to have some of your instructional staff here today:\n",
    "\n",
    "- Sarah\n",
    "- Byungwon\n",
    "- Shreenivas"
   ]
  }
 ],
 "metadata": {
  "celltoolbar": "Slideshow",
  "kernelspec": {
   "display_name": "Python 3",
   "language": "python",
   "name": "python3"
  },
  "language_info": {
   "codemirror_mode": {
    "name": "ipython",
    "version": 3
   },
   "file_extension": ".py",
   "mimetype": "text/x-python",
   "name": "python",
   "nbconvert_exporter": "python",
   "pygments_lexer": "ipython3",
   "version": "3.6.8"
  },
  "rise": {
   "scroll": true
  }
 },
 "nbformat": 4,
 "nbformat_minor": 2
}
